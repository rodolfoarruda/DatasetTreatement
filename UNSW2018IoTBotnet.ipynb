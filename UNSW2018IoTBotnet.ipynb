{
  "cells": [
    {
      "cell_type": "code",
      "source": [
        "from google.colab import drive\n",
        "drive.mount('/content/drive')"
      ],
      "metadata": {
        "colab": {
          "base_uri": "https://localhost:8080/"
        },
        "id": "M7zKyuKOFB2p",
        "outputId": "953887aa-76a9-446e-ba41-fca1de9520e8"
      },
      "id": "M7zKyuKOFB2p",
      "execution_count": null,
      "outputs": [
        {
          "output_type": "stream",
          "name": "stdout",
          "text": [
            "Mounted at /content/drive\n"
          ]
        }
      ]
    },
    {
      "cell_type": "code",
      "execution_count": null,
      "id": "40f7c50d-b0ae-4f19-9398-1435ba7a851d",
      "metadata": {
        "id": "40f7c50d-b0ae-4f19-9398-1435ba7a851d"
      },
      "outputs": [],
      "source": [
        "import pandas as pd\n",
        "import numpy as np\n",
        "import os"
      ]
    },
    {
      "cell_type": "code",
      "source": [
        "def dados_tratar(df):\n",
        "\n",
        "    df['label'] = df['category'] + ' - ' + df['subcategory']\n",
        "    df = df.drop(['attack','category','subcategory','pkSeqID', 'stime', 'flgs', 'proto', 'saddr', 'sport', 'daddr', 'dport', 'state', 'ltime', 'seq'], axis=1)\n",
        "\n",
        "    return df\n",
        "\n",
        "\n",
        "if __name__ == \"__main__\":\n",
        "    # Obtém a hora atual antes da execução do programa\n",
        "    pd.set_option('display.max_columns', None)\n",
        "    print(\"Loading dataset...\")\n",
        "    #Load Data\n",
        "   # Directory containing the files\n",
        "    directory = '/content/drive/MyDrive/intrusion/UNSW2018-IoTBotnet/01-RawDataset'\n",
        "\n",
        "    all_sampled_data = []  # List to store sampled dataframes\n",
        "\n",
        "    # Get a sorted list of CSV filenames\n",
        "    csv_files = sorted([f for f in os.listdir(directory) if f.endswith(\".csv\")])\n",
        "\n",
        "    for i, filename in enumerate(csv_files, start=1):\n",
        "      filepath = os.path.join(directory, filename)\n",
        "      df = pd.read_csv(filepath)\n",
        "      print(f\"Tamanho df: {df.shape}\")\n",
        "      sampled_df = df.sample(frac=1)\n",
        "      print(f\"Tamanho sampled_df: {sampled_df.shape}\")\n",
        "      del df\n",
        "      gc.collect()\n",
        "      all_sampled_data.append(sampled_df)\n",
        "      print(f\"{i}. Processed: {filename}\")\n",
        "\n",
        "    # Concatenate all sampled dataframes\n",
        "    concatenated_df = pd.concat(all_sampled_data)\n",
        "    # Now you can work with the 'concatenated_df'\n",
        "    print(f'Dados importados com shape: {concatenated_df.shape}')\n",
        "    df  = dados_tratar(concatenated_df)\n",
        "    print(\"Distribuição do label:\")\n",
        "    print(df['label'].value_counts())\n",
        "    print(f'Dados para AL com shape: {df.shape}')\n",
        "    print(\"Salvar dataset\")\n",
        "    df.drop(['label'], axis=1).to_csv('/content/drive/MyDrive/intrusion/UNSW2018-IoTBotnet/02-TreatedDataset/UNSW_2018IoTBotnet_features.csv', index=False,header=False )\n",
        "    df[\"label\"].to_csv('/content/drive/MyDrive/intrusion/UNSW2018-IoTBotnet/02-TreatedDataset/UNSW_2018IoTBotnet_labels.csv', index=False,header=False )\n",
        "    print(\"Salvar dataset... DONE\")"
      ],
      "metadata": {
        "colab": {
          "base_uri": "https://localhost:8080/"
        },
        "id": "nu_QN1BZXbgw",
        "outputId": "80a938e1-b651-4efa-b325-4350aa3a54ab"
      },
      "id": "nu_QN1BZXbgw",
      "execution_count": null,
      "outputs": [
        {
          "output_type": "stream",
          "name": "stdout",
          "text": [
            "Loading dataset...\n",
            "Tamanho df: (1000000, 46)\n",
            "Tamanho sampled_df: (1000000, 46)\n",
            "1. Processed: UNSW_2018_IoT_Botnet_Full5pc_1.csv\n",
            "Tamanho df: (1000000, 46)\n",
            "Tamanho sampled_df: (1000000, 46)\n",
            "2. Processed: UNSW_2018_IoT_Botnet_Full5pc_2.csv\n",
            "Tamanho df: (1000000, 46)\n",
            "Tamanho sampled_df: (1000000, 46)\n",
            "3. Processed: UNSW_2018_IoT_Botnet_Full5pc_3.csv\n",
            "Tamanho df: (668522, 46)\n",
            "Tamanho sampled_df: (668522, 46)\n",
            "4. Processed: UNSW_2018_IoT_Botnet_Full5pc_4.csv\n",
            "Dados importados com shape: (3668522, 46)\n",
            "Distribuição do label:\n",
            "label\n",
            "DoS - UDP                          1032975\n",
            "DDoS - TCP                          977380\n",
            "DDoS - UDP                          948255\n",
            "DoS - TCP                           615800\n",
            "Reconnaissance - Service_Scan        73168\n",
            "Reconnaissance - OS_Fingerprint      17914\n",
            "DoS - HTTP                            1485\n",
            "DDoS - HTTP                            989\n",
            "Normal - Normal                        477\n",
            "Theft - Keylogging                      73\n",
            "Theft - Data_Exfiltration                6\n",
            "Name: count, dtype: int64\n",
            "Dados para AL com shape: (3668522, 33)\n",
            "Salvar dataset\n",
            "Salvar dataset... DONE\n"
          ]
        }
      ]
    }
  ],
  "metadata": {
    "kernelspec": {
      "display_name": "Python 3 (ipykernel)",
      "language": "python",
      "name": "python3"
    },
    "language_info": {
      "codemirror_mode": {
        "name": "ipython",
        "version": 3
      },
      "file_extension": ".py",
      "mimetype": "text/x-python",
      "name": "python",
      "nbconvert_exporter": "python",
      "pygments_lexer": "ipython3",
      "version": "3.9.12"
    },
    "colab": {
      "provenance": []
    }
  },
  "nbformat": 4,
  "nbformat_minor": 5
}