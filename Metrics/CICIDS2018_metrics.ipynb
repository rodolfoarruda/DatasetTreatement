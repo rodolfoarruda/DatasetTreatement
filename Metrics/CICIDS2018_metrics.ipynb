{
  "cells": [
    {
      "cell_type": "code",
      "source": [
        "from google.colab import drive\n",
        "drive.mount('/content/drive')"
      ],
      "metadata": {
        "colab": {
          "base_uri": "https://localhost:8080/"
        },
        "id": "Mh1A7aGemQWx",
        "outputId": "3b9dc07e-4f9d-495b-a4a0-c6c892d07064"
      },
      "id": "Mh1A7aGemQWx",
      "execution_count": 1,
      "outputs": [
        {
          "output_type": "stream",
          "name": "stdout",
          "text": [
            "Mounted at /content/drive\n"
          ]
        }
      ]
    },
    {
      "cell_type": "code",
      "execution_count": 2,
      "id": "d1938670",
      "metadata": {
        "tags": [],
        "id": "d1938670"
      },
      "outputs": [],
      "source": [
        "###### Main Module\n",
        "#####\n",
        "###########################\n",
        "###### Packages\n",
        "import datetime\n",
        "import matplotlib.pyplot as plt\n",
        "import numpy as np\n",
        "import pandas as pd\n",
        "import sys\n",
        "from tabulate import tabulate\n",
        "import time\n",
        "\n",
        "###########################"
      ]
    },
    {
      "cell_type": "code",
      "source": [
        "labels_file=pd.read_csv(\"/content/drive/MyDrive/IntrusionDetection/CICIDS2018/02-TreatedDataset/CIC2018sample_labels.csv\",header=None)"
      ],
      "metadata": {
        "id": "HZtpCLhirOJI"
      },
      "id": "HZtpCLhirOJI",
      "execution_count": 3,
      "outputs": []
    },
    {
      "cell_type": "code",
      "source": [
        "labels_file.shape"
      ],
      "metadata": {
        "colab": {
          "base_uri": "https://localhost:8080/"
        },
        "id": "X4QYN9i4I6Nb",
        "outputId": "19d378bc-7c7e-4f6c-f1d3-7ead3f13d9ae"
      },
      "id": "X4QYN9i4I6Nb",
      "execution_count": 5,
      "outputs": [
        {
          "output_type": "execute_result",
          "data": {
            "text/plain": [
              "(1772076, 1)"
            ]
          },
          "metadata": {},
          "execution_count": 5
        }
      ]
    },
    {
      "cell_type": "code",
      "source": [
        "labels_file.value_counts()"
      ],
      "metadata": {
        "colab": {
          "base_uri": "https://localhost:8080/"
        },
        "id": "T6zSap02rOLm",
        "outputId": "d8cbdf8a-a20c-4270-eea8-f6fffcf7dd8c"
      },
      "id": "T6zSap02rOLm",
      "execution_count": 4,
      "outputs": [
        {
          "output_type": "execute_result",
          "data": {
            "text/plain": [
              "Benign                      1222430\n",
              "DDOS attack-HOIC             137202\n",
              "DDoS attacks-LOIC-HTTP       115238\n",
              "DoS attacks-Hulk              92382\n",
              "Bot                           57238\n",
              "FTP-BruteForce                38672\n",
              "SSH-Bruteforce                37518\n",
              "Infilteration                 32387\n",
              "DoS attacks-SlowHTTPTest      27978\n",
              "DoS attacks-GoldenEye          8302\n",
              "DoS attacks-Slowloris          2198\n",
              "DDOS attack-LOIC-UDP            346\n",
              "Brute Force -Web                122\n",
              "Brute Force -XSS                 46\n",
              "SQL Injection                    17\n",
              "Name: count, dtype: int64"
            ]
          },
          "metadata": {},
          "execution_count": 4
        }
      ]
    },
    {
      "cell_type": "code",
      "source": [
        "round((46/1772076)*100,5)"
      ],
      "metadata": {
        "colab": {
          "base_uri": "https://localhost:8080/"
        },
        "id": "avcteoy1I4bb",
        "outputId": "067105f9-2c3e-4599-8079-63cc45dd32c6"
      },
      "id": "avcteoy1I4bb",
      "execution_count": 10,
      "outputs": [
        {
          "output_type": "execute_result",
          "data": {
            "text/plain": [
              "0.0026"
            ]
          },
          "metadata": {},
          "execution_count": 10
        }
      ]
    },
    {
      "cell_type": "code",
      "source": [
        "data1 = np.load('/content/drive/MyDrive/IntrusionDetection/CICIDS2018/03-Experiments/2024-07-07/CIC2018sample-LC-s100-a301.npy', allow_pickle=True).item()\n",
        "data2 = np.load('/content/drive/MyDrive/IntrusionDetection/CICIDS2018/03-Experiments/2024-07-07/CIC2018sample-LC-s200-a301.npy', allow_pickle=True).item()\n",
        "data3 = np.load('/content/drive/MyDrive/IntrusionDetection/CICIDS2018/03-Experiments/2024-07-07/CIC2018sample-LC-s300-a301.npy', allow_pickle=True).item()\n",
        "data4 = np.load('/content/drive/MyDrive/IntrusionDetection/CICIDS2018/03-Experiments/2024-07-07/CIC2018sample-LC-s400-a301.npy', allow_pickle=True).item()\n",
        "data5 = np.load('/content/drive/MyDrive/IntrusionDetection/CICIDS2018/03-Experiments/2024-07-07/CIC2018sample-LC-s500-a301.npy', allow_pickle=True).item()"
      ],
      "metadata": {
        "id": "6d-FRV1NRjXM"
      },
      "id": "6d-FRV1NRjXM",
      "execution_count": null,
      "outputs": []
    },
    {
      "cell_type": "code",
      "source": [],
      "metadata": {
        "collapsed": true,
        "id": "mFLutLWaaJ8W"
      },
      "id": "mFLutLWaaJ8W",
      "execution_count": null,
      "outputs": []
    },
    {
      "cell_type": "code",
      "source": [
        "querying_time1 = []\n",
        "classification_time1 = []\n",
        "for key, value in data1.items():\n",
        "    if isinstance(key, int) and 'balanced_accuracy' in value:\n",
        "        querying_time1.append(value['querying_time'][0])\n",
        "        classification_time1.append(value['classification_time'][0])\n",
        "\n",
        "print(len(classification_time1[0:161]))\n",
        "print((classification_time1[0:161]))\n",
        "#[5.713323100004345]"
      ],
      "metadata": {
        "colab": {
          "base_uri": "https://localhost:8080/"
        },
        "id": "CGEhD5xtrAZW",
        "outputId": "97004d37-ddbe-4750-f226-065014e36cb4"
      },
      "id": "CGEhD5xtrAZW",
      "execution_count": null,
      "outputs": [
        {
          "output_type": "stream",
          "name": "stdout",
          "text": [
            "301\n",
            "[0.020044100005179644, 0.02142880007158965, 0.02267320000100881, 0.047223999979905784, 0.05193439999129623, 0.08123439992778003, 0.056817300035618246, 0.06412180000916123, 0.11546660005114973, 0.08611559995915741, 0.09597100003156811, 0.11394199996721, 0.12536860001273453, 0.16108280001208186, 0.20241340005304664, 0.13748230005148798, 0.16561460006050766, 0.17769270006101578, 0.18706929998006672, 0.20660799997858703, 0.25530129997059703, 0.2824084999738261, 0.2369070000713691, 0.3105963999405503, 0.249834300018847, 0.3376202000072226, 0.29559320001862943, 0.4470334000652656, 0.3676737000932917, 0.43858760001603514, 0.3828232999658212, 0.4427281999960542, 0.4221746999537572, 0.4298767999280244, 0.41522009996697307, 0.5412552000489086, 0.4759629999753088, 0.5028159000212327, 0.4984116000123322, 0.504898100043647, 0.46092849993146956, 0.6044962999876589, 0.5598790999501944, 0.5872728999238461, 0.5995246999664232, 0.6569073999999091, 0.6134436000138521, 0.6434554998995736, 0.6839697000104934, 0.6624198000645265, 0.6466764999786392, 0.6572308000177145, 0.6762676000362262, 0.6847742999671027, 0.6291411999845877, 0.7356375000672415, 0.7533975000260398, 0.7256203999277204, 0.7415452999994159, 0.7699787000892684, 0.7562606999417767, 0.7153038999531418, 0.8091909000650048, 0.6616704000625759, 0.8154694000259042, 0.8514807999599725, 0.7588698000181466, 0.9074103999882936, 0.8839395999675617, 0.8415362000232562, 0.7966995000606403, 0.7593102999962866, 0.8871805000817403, 0.8449867999879643, 0.9068243999499828, 0.9071322999661788, 0.9582358999177814, 0.9188216000329703, 0.9545490000164136, 0.8707244000397623, 1.0307878999738023, 0.9455145000247285, 1.0766652999445796, 0.9924094000598416, 0.9862817999674007, 0.8300152000738308, 0.9941065999446437, 1.059227199992165, 1.104836400016211, 1.023356599966064, 1.0741809000028297, 1.0532010999741033, 1.113759299973026, 1.0476094000041485, 0.9696829000022262, 1.0847928000148386, 0.957084699999541, 1.2489631000207737, 0.9575003000209108, 1.2234019000316039, 1.0607965999515727, 1.0543345999903977, 1.2708105000201613, 1.3035566000035033, 1.3560224999673665, 1.2351879000198096, 1.1952734000515193, 1.1676059999736026, 1.121628399938345, 1.1968948999419808, 1.3106335999909788, 1.241221999982372, 1.1920018000528216, 1.4547820000443608, 1.4932458000257611, 1.490589400054887, 1.4602663998957723, 1.3700124999741092, 1.517580799991265, 1.6129526000004262, 1.7705483000027016, 1.59232279995922, 1.5557022999273613, 1.65756009996403, 1.4153274000855163, 1.7056905999779701, 1.6716566999675706, 1.6374563000863418, 1.6664075999287888, 1.716461700038053, 1.7263538000406697, 1.6570179000264034, 1.7983410999877378, 1.6888416999718174, 1.814454699982889, 1.5679659999441355, 1.794905300019309, 1.881386100081727, 1.6093520999420434, 1.836265700054355, 1.830467400024645, 1.8300649999873713, 1.815268800011836, 1.868946100003086, 1.9892900000559166, 1.9375150999985635, 1.8635713999392465, 1.9742723000235856, 1.8321839000564069, 1.9348234999924898, 2.4503500999417156, 1.9217645999742672, 2.190653899917379, 2.3225678999442607, 2.015520199900493, 2.1079199000960216, 2.052610000013374, 1.968867399962619, 2.0897640000330284, 2.043125000083819, 2.0479942000238225, 1.989770199987106, 2.090674100094475, 2.3998739999951795, 2.066022500046529, 2.330354200094007, 2.2979342999169603, 2.1881371999625117, 2.256535299937241, 2.324264600058086, 2.4610075000673532, 2.3472657999955118, 2.3090475000208244, 2.245936500024982, 2.508071199990809, 2.3228263000492007, 2.308187699993141, 2.8890204000053927, 2.463456299970858, 2.81666899996344, 2.592197300051339, 2.9593849000521004, 2.690980499959551, 2.2707134999800473, 2.972403599997051, 2.6688029000069946, 2.6821001999778673, 2.6322393999435008, 2.7358197000576183, 3.49492030008696, 3.1744263999862596, 3.5701196000445634, 3.3512401999905705, 3.6842248999746516, 3.1051191999576986, 2.965114300022833, 2.808618600014597, 3.1883356999605894, 3.364421800011769, 3.5877807999495417, 3.234646600089036, 3.904585500014946, 2.5965370000340044, 2.7187748999567702, 3.831822599982843, 3.605669300071895, 3.6935439999215305, 4.168909700005315, 3.4867270999820903, 3.2841763000469655, 3.892435299931094, 3.826584600028582, 4.461232000030577, 4.558758199913427, 4.6678740999195725, 4.790186399943195, 4.618578900001012, 4.989814199972898, 4.785370699944906, 5.178550999960862, 4.966411200002767, 4.775765800033696, 4.775564100011252, 5.0447021999862045, 5.030161599977873, 4.635490500018932, 5.190380600048229, 5.293075100053102, 6.161297100014053, 6.05839390004985, 5.777231800020672, 6.697463900083676, 5.9457660999614745, 5.947068399982527, 6.136334199924022, 6.2478229000698775, 6.225657600094564, 6.186852499959059, 6.294777000090107, 6.168505899957381, 6.569398100022227, 6.18854610004928, 6.430688099935651, 4.877453000051901, 4.7780113000189885, 4.513423900003545, 4.713380399974994, 4.542849999968894, 4.838806299958378, 4.654598900000565, 4.456879999954253, 4.63285359996371, 4.869849200011231, 4.484836000017822, 5.656157299992628, 5.498787599964999, 4.692413100041449, 4.804783399915323, 4.815133800031617, 4.925316200009547, 4.827227200032212, 4.754018799983896, 4.959903200040571, 5.01762850000523, 5.113504200009629, 5.164862900041044, 5.070461799972691, 5.066504599992186, 5.0727753000101075, 5.130412099999376, 5.5252659999532625, 5.209052100079134, 5.54824760009069, 6.330980199971236, 6.023613999946974, 6.135339800035581, 5.374488499946892, 5.111750699928962, 5.363358699949458, 6.220070999930613, 6.144016699981876, 6.629162000026554, 6.363790999981575, 6.252735699992627, 6.569161199964583, 6.4387180000776425, 6.546551000094041, 6.31603119999636, 6.564554800046608, 6.605591500061564, 6.3899735999293625, 6.555646599968895, 6.543035299982876, 7.92821019992698, 8.082447499968112, 7.512317199958488, 6.29693509999197, 6.111799499951303, 5.99241519998759, 6.098730999976397, 5.713323100004345]\n"
          ]
        }
      ]
    },
    {
      "cell_type": "code",
      "source": [
        "querying_time1 = []\n",
        "querying_time2 = []\n",
        "querying_time3 = []\n",
        "querying_time4 = []\n",
        "querying_time5 = []\n",
        "classification_time1 = []\n",
        "classification_time2 = []\n",
        "classification_time3 = []\n",
        "classification_time4 = []\n",
        "classification_time5 = []\n",
        "\n",
        "for key, value in data1.items():\n",
        "    if isinstance(key, int) and 'balanced_accuracy' in value:\n",
        "        querying_time1.append(value['querying_time'][0])\n",
        "        classification_time1.append(value['classification_time'][0])\n",
        "\n",
        "for key, value in data2.items():\n",
        "    if isinstance(key, int) and 'balanced_accuracy' in value:\n",
        "        querying_time2.append(value['querying_time'][0])\n",
        "        classification_time2.append(value['classification_time'][0])\n",
        "\n",
        "for key, value in data3.items():\n",
        "    if isinstance(key, int) and 'balanced_accuracy' in value:\n",
        "        querying_time3.append(value['querying_time'][0])\n",
        "        classification_time3.append(value['classification_time'][0])\n",
        "\n",
        "for key, value in data4.items():\n",
        "    if isinstance(key, int) and 'balanced_accuracy' in value:\n",
        "        querying_time4.append(value['querying_time'][0])\n",
        "        classification_time4.append(value['classification_time'][0])\n",
        "\n",
        "for key, value in data5.items():\n",
        "    if isinstance(key, int) and 'balanced_accuracy' in value:\n",
        "        querying_time5.append(value['querying_time'][0])\n",
        "        classification_time5.append(value['classification_time'][0])\n",
        "\n",
        "print(\"querying_time médio:\", (sum(querying_time1[0:161]) + \\\n",
        "                               sum(querying_time2[0:161]) + \\\n",
        "                               sum(querying_time3[0:161]) + \\\n",
        "                               sum(querying_time4[0:161]) + \\\n",
        "                               sum(querying_time5[0:161]) )/5/60)\n",
        "\n",
        "print(\"querying_time desvio:\" , np.std(np.array([sum(querying_time1[0:161])/60 , \\\n",
        "                                    sum(querying_time2[0:161])/60 , \\\n",
        "                                    sum(querying_time3[0:161])/60 , \\\n",
        "                                    sum(querying_time4[0:161])/60 , \\\n",
        "                                    sum(querying_time5[0:161])/60 ])))\n",
        "\n",
        "print(\"query time iteration média:\",(  data1[80030]['querying_time'][0] + \\\n",
        "                                    data2[80030]['querying_time'][0] + \\\n",
        "                                    data3[80030]['querying_time'][0] + \\\n",
        "                                    data4[80030]['querying_time'][0] + \\\n",
        "                                    data5[80030]['querying_time'][0] )/5)\n",
        "\n",
        "print(\"query time iteration desvio:\" , np.std(np.array([ data1[80030]['querying_time'][0] , \\\n",
        "                                    data2[80030]['querying_time'][0] , \\\n",
        "                                    data3[80030]['querying_time'][0] , \\\n",
        "                                    data4[80030]['querying_time'][0] , \\\n",
        "                                    data5[80030]['querying_time'][0] ])))\n",
        "\n",
        "print(\"classification_time médio:\",( sum(classification_time1[0:161]) + \\\n",
        "                                    sum(classification_time2[0:161]) + \\\n",
        "                                    sum(classification_time3[0:161]) + \\\n",
        "                                    sum(classification_time4[0:161]) + \\\n",
        "                                    sum(classification_time5[0:161]) )/5/60)\n",
        "\n",
        "print(\"classification_time desvio:\", np.std(np.array([sum(classification_time1[0:161])/60 , \\\n",
        "                                    sum(classification_time2[0:161])/60 , \\\n",
        "                                    sum(classification_time3[0:161])/60 , \\\n",
        "                                    sum(classification_time4[0:161])/60 , \\\n",
        "                                    sum(classification_time5[0:161])/60 ])))\n",
        "\n",
        "print(\"classification_time iteration média:\",(  data1[80030]['classification_time'][0] + \\\n",
        "                                    data2[80030]['classification_time'][0] + \\\n",
        "                                    data3[80030]['classification_time'][0] + \\\n",
        "                                    data4[80030]['classification_time'][0] + \\\n",
        "                                    data5[80030]['classification_time'][0] )/5)\n",
        "\n",
        "print(\"classification_time iteration desvio:\" , np.std(np.array([ data1[80030]['classification_time'][0] , \\\n",
        "                                    data2[80030]['classification_time'][0] , \\\n",
        "                                    data3[80030]['classification_time'][0] , \\\n",
        "                                    data4[80030]['classification_time'][0] , \\\n",
        "                                    data5[80030]['classification_time'][0] ])))\n",
        "\n",
        "print(\"Classes média:\",(            data1[80030]['classes_know'][0] + \\\n",
        "                                    data2[80030]['classes_know'][0] + \\\n",
        "                                    data3[80030]['classes_know'][0] + \\\n",
        "                                    data4[80030]['classes_know'][0] + \\\n",
        "                                    data5[80030]['classes_know'][0] )/5)\n",
        "\n",
        "print(\"Classes desvio:\" , np.std(np.array([ data1[80030]['classes_know'][0] , \\\n",
        "                                    data2[80030]['classes_know'][0] , \\\n",
        "                                    data3[80030]['classes_know'][0] , \\\n",
        "                                    data4[80030]['classes_know'][0] , \\\n",
        "                                    data5[80030]['classes_know'][0] ])))\n",
        "\n",
        "print(\"Acurácia média:\",(           data1[80030]['accuracy'][0] + \\\n",
        "                                    data2[80030]['accuracy'][0] + \\\n",
        "                                    data3[80030]['accuracy'][0] + \\\n",
        "                                    data4[80030]['accuracy'][0] + \\\n",
        "                                    data5[80030]['accuracy'][0] )/5)\n",
        "\n",
        "print(\"Acurácia desvio:\" , np.std(np.array([ data1[80030]['accuracy'][0] , \\\n",
        "                                    data2[80030]['accuracy'][0] , \\\n",
        "                                    data3[80030]['accuracy'][0] , \\\n",
        "                                    data4[80030]['accuracy'][0] , \\\n",
        "                                    data5[80030]['accuracy'][0] ])))\n",
        "\n",
        "print(\"balanced accuracy média:\",(  data1[80030]['balanced_accuracy'][0] + \\\n",
        "                                    data2[80030]['balanced_accuracy'][0] + \\\n",
        "                                    data3[80030]['balanced_accuracy'][0] + \\\n",
        "                                    data4[80030]['balanced_accuracy'][0] + \\\n",
        "                                    data5[80030]['balanced_accuracy'][0] )/5)\n",
        "\n",
        "print(\"balanced accuracy desvio:\" , np.std(np.array([ data1[80030]['balanced_accuracy'][0] , \\\n",
        "                                    data2[80030]['balanced_accuracy'][0] , \\\n",
        "                                    data3[80030]['balanced_accuracy'][0] , \\\n",
        "                                    data4[80030]['balanced_accuracy'][0] , \\\n",
        "                                    data5[80030]['balanced_accuracy'][0] ])))\n",
        "\n",
        "# Definir as classes únicas esperadas\n",
        "unique_classes = ['Benign', 'DDOS attack-HOIC', 'DDoS attacks-LOIC-HTTP', 'DoS attacks-Hulk', \\\n",
        "                  'Bot', 'FTP-BruteForce', 'SSH-Bruteforce', 'Infilteration', \\\n",
        "                  'DoS attacks-SlowHTTPTest', 'DoS attacks-GoldenEye', 'DoS attacks-Slowloris', \\\n",
        "                  'DDOS attack-LOIC-UDP', 'Brute Force -Web', 'Brute Force -XSS', 'SQL Injection']\n",
        "\n",
        "# Inicializar um dicionário para armazenar as contagens de todas as classes\n",
        "class_counts_all = {cls: 0 for cls in unique_classes}\n",
        "\n",
        "# Concatenar todos os vetores em um único array\n",
        "all_classes = np.concatenate((\n",
        "    data1[80030]['classes'][0],\n",
        "    data2[80030]['classes'][0],\n",
        "    data3[80030]['classes'][0],\n",
        "    data4[80030]['classes'][0],\n",
        "    data5[80030]['classes'][0]\n",
        "))\n",
        "\n",
        "# Contar as ocorrências de cada classe encontrada\n",
        "unique_classes_found, class_counts_found = np.unique(all_classes, return_counts=True)\n",
        "\n",
        "# Atualizar o dicionário com as contagens encontradas\n",
        "for cls, count in zip(unique_classes_found, class_counts_found):\n",
        "    if cls in class_counts_all:\n",
        "        class_counts_all[cls] = count\n",
        "\n",
        "# Verificar e adicionar zero para classes não encontradas\n",
        "for cls in unique_classes:\n",
        "    if cls not in class_counts_all:\n",
        "        class_counts_all[cls] = 0\n",
        "\n",
        "# Preparar os dados para a tabela\n",
        "table_data = []\n",
        "for cls in unique_classes:\n",
        "    table_data.append([cls, class_counts_all[cls]])\n",
        "\n",
        "# Imprimir a tabela usando tabulate\n",
        "print(tabulate(table_data, headers=['Classe', 'Frequência'], tablefmt='grid'))"
      ],
      "metadata": {
        "colab": {
          "base_uri": "https://localhost:8080/"
        },
        "id": "2CceVTwGpXhM",
        "outputId": "10e0c81e-56bf-4946-f552-78a61eb5f957"
      },
      "id": "2CceVTwGpXhM",
      "execution_count": null,
      "outputs": [
        {
          "output_type": "stream",
          "name": "stdout",
          "text": [
            "querying_time médio: 7.299021333515702\n",
            "querying_time desvio: 0.6422706484867327\n",
            "query time iteration média: 3.1267178607959067\n",
            "query time iteration desvio: 0.26582459475170894\n",
            "classification_time médio: 4.359608460823463\n",
            "classification_time desvio: 0.2517914106339061\n",
            "classification_time iteration média: 3.600191983602417\n",
            "classification_time iteration desvio: 0.6509302649410988\n",
            "Classes média: 13.6\n",
            "Classes desvio: 0.7999999999999999\n",
            "Acurácia média: 0.9700596099115352\n",
            "Acurácia desvio: 0.0007514774395662494\n",
            "balanced accuracy média: 0.7602301324705827\n",
            "balanced accuracy desvio: 0.014881472710271963\n",
            "+--------------------------+--------------+\n",
            "| Classe                   |   Frequência |\n",
            "+==========================+==============+\n",
            "| Benign                   |            5 |\n",
            "+--------------------------+--------------+\n",
            "| DDOS attack-HOIC         |            5 |\n",
            "+--------------------------+--------------+\n",
            "| DDoS attacks-LOIC-HTTP   |            5 |\n",
            "+--------------------------+--------------+\n",
            "| DoS attacks-Hulk         |            5 |\n",
            "+--------------------------+--------------+\n",
            "| Bot                      |            5 |\n",
            "+--------------------------+--------------+\n",
            "| FTP-BruteForce           |            5 |\n",
            "+--------------------------+--------------+\n",
            "| SSH-Bruteforce           |            5 |\n",
            "+--------------------------+--------------+\n",
            "| Infilteration            |            5 |\n",
            "+--------------------------+--------------+\n",
            "| DoS attacks-SlowHTTPTest |            5 |\n",
            "+--------------------------+--------------+\n",
            "| DoS attacks-GoldenEye    |            5 |\n",
            "+--------------------------+--------------+\n",
            "| DoS attacks-Slowloris    |            5 |\n",
            "+--------------------------+--------------+\n",
            "| DDOS attack-LOIC-UDP     |            5 |\n",
            "+--------------------------+--------------+\n",
            "| Brute Force -Web         |            5 |\n",
            "+--------------------------+--------------+\n",
            "| Brute Force -XSS         |            1 |\n",
            "+--------------------------+--------------+\n",
            "| SQL Injection            |            2 |\n",
            "+--------------------------+--------------+\n"
          ]
        }
      ]
    },
    {
      "cell_type": "code",
      "source": [],
      "metadata": {
        "id": "CfCU4FE-4kdf"
      },
      "id": "CfCU4FE-4kdf",
      "execution_count": null,
      "outputs": []
    }
  ],
  "metadata": {
    "kernelspec": {
      "display_name": "Rodo",
      "language": "python",
      "name": "rodo"
    },
    "language_info": {
      "codemirror_mode": {
        "name": "ipython",
        "version": 3
      },
      "file_extension": ".py",
      "mimetype": "text/x-python",
      "name": "python",
      "nbconvert_exporter": "python",
      "pygments_lexer": "ipython3",
      "version": "3.8.6"
    },
    "colab": {
      "provenance": []
    }
  },
  "nbformat": 4,
  "nbformat_minor": 5
}