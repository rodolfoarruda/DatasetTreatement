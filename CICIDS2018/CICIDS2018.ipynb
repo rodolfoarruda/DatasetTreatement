{
  "cells": [
    {
      "cell_type": "code",
      "source": [
        "###### Main Module\n",
        "#####\n",
        "###########################\n",
        "###### Packages\n",
        "import datetime\n",
        "import dask.dataframe as dd\n",
        "import gc\n",
        "import numpy as np\n",
        "import pandas as pd\n",
        "import os\n",
        "import sys\n",
        "\n",
        "from sklearn.model_selection import train_test_split\n",
        "from sklearn import preprocessing\n",
        "\n",
        "#from mlflow import *\n",
        "#from pycaret.classification import setup, compare_models\n",
        "\n",
        "###########################"
      ],
      "metadata": {
        "id": "QnsPd4kRHZH6"
      },
      "id": "QnsPd4kRHZH6",
      "execution_count": null,
      "outputs": []
    },
    {
      "cell_type": "code",
      "source": [
        "from google.colab import drive\n",
        "drive.mount('/content/drive')"
      ],
      "metadata": {
        "colab": {
          "base_uri": "https://localhost:8080/"
        },
        "id": "18r__bOSfwpi",
        "outputId": "84d5c477-d351-4ad1-d611-3ebc854c53bb"
      },
      "id": "18r__bOSfwpi",
      "execution_count": null,
      "outputs": [
        {
          "output_type": "stream",
          "name": "stdout",
          "text": [
            "Mounted at /content/drive\n"
          ]
        }
      ]
    },
    {
      "cell_type": "code",
      "source": [
        "dspaths = []\n",
        "for dirname, _, filenames in os.walk('/content/drive/MyDrive/IntrusionDetection/CICIDS2018/02-TreatedDataset'):\n",
        "    for filename in filenames:\n",
        "        if filename.endswith('.parquet'):\n",
        "            pds = os.path.join(dirname, filename)\n",
        "            dspaths.append(pds)\n",
        "            print(pds)"
      ],
      "metadata": {
        "colab": {
          "base_uri": "https://localhost:8080/"
        },
        "id": "rlTsXHZqgGMs",
        "outputId": "3afac53c-8399-45e8-b24b-a02065b928b7"
      },
      "id": "rlTsXHZqgGMs",
      "execution_count": null,
      "outputs": [
        {
          "output_type": "stream",
          "name": "stdout",
          "text": [
            "/content/drive/MyDrive/IntrusionDetection/CICIDS2018/02-TreatedDataset/df1_modified.parquet\n",
            "/content/drive/MyDrive/IntrusionDetection/CICIDS2018/02-TreatedDataset/df2_modified.parquet\n",
            "/content/drive/MyDrive/IntrusionDetection/CICIDS2018/02-TreatedDataset/df3_modified.parquet\n",
            "/content/drive/MyDrive/IntrusionDetection/CICIDS2018/02-TreatedDataset/df4_modified.parquet\n",
            "/content/drive/MyDrive/IntrusionDetection/CICIDS2018/02-TreatedDataset/df5_modified.parquet\n",
            "/content/drive/MyDrive/IntrusionDetection/CICIDS2018/02-TreatedDataset/df6_modified.parquet\n",
            "/content/drive/MyDrive/IntrusionDetection/CICIDS2018/02-TreatedDataset/df7_modified.parquet\n",
            "/content/drive/MyDrive/IntrusionDetection/CICIDS2018/02-TreatedDataset/df8_modified.parquet\n",
            "/content/drive/MyDrive/IntrusionDetection/CICIDS2018/02-TreatedDataset/df9_modified.parquet\n",
            "/content/drive/MyDrive/IntrusionDetection/CICIDS2018/02-TreatedDataset/df10_modified.parquet\n"
          ]
        }
      ]
    },
    {
      "cell_type": "code",
      "source": [
        "def dados_tratar(df):\n",
        "\n",
        "\n",
        "    df.columns = df.columns.str.strip().str.lower().str.replace(' ', '_').str.replace('[()]', '', regex=True)\n",
        "\n",
        "    return df\n",
        "\n",
        "\n",
        "if __name__ == \"__main__\":\n",
        "    # Obtém a hora atual antes da execução do programa\n",
        "    pd.set_option('display.max_columns', None)\n",
        "    hora_inicio = datetime.datetime.now()\n",
        "    print(\"Loading dataset...\")\n",
        "    #Load Data\n",
        "    dspaths = []\n",
        "\n",
        "    for dirname, _, filenames in os.walk('/content/drive/MyDrive/IntrusionDetection/CICIDS2018/02-TreatedDataset'):\n",
        "      for filename in filenames:\n",
        "        if filename.endswith('.parquet'):\n",
        "          pds = os.path.join(dirname, filename)\n",
        "          dspaths.append(pds)\n",
        "          print(pds)\n",
        "\n",
        "    df = pd.concat([pd.read_parquet(dfp) for dfp in dspaths], ignore_index=True)\n",
        "\n",
        "    print(f'Dados importados com shape: {df.shape}')\n",
        "\n",
        "    df  = dados_tratar(df)\n",
        "    print(f'Colunas: {df.columns}')\n",
        "    print(\"Distribuição do label:\")\n",
        "    print(df['label'].value_counts())\n",
        "    print(f'Dados para AL com shape: {df.shape}')\n",
        "    print(\"Salvar dataset\")\n",
        "    #df.drop(\"label\", axis=1).to_csv('/content/drive/MyDrive/IntrusionDetection/CICIDS2018/02-TreatedDataset/CIC2018_features.csv', index=False,header=False )\n",
        "    #df[\"label\"].to_csv('/content/drive/MyDrive/IntrusionDetection/CICIDS2018/02-TreatedDataset/CIC2018_labels.csv', index=False,header=False )\n",
        "\n",
        "    # Cria um sample aleatório de 20% mantendo a proporção\n",
        "    df_sample = df.groupby('label', group_keys=False).apply(lambda x: x.sample(frac=0.2, random_state=1))\n",
        "    print(\"Distribuição do label de sample:\")\n",
        "    print(df_sample['label'].value_counts())\n",
        "    df_sample.drop(\"label\", axis=1).to_csv('/content/drive/MyDrive/IntrusionDetection/CICIDS2018/02-TreatedDataset/CIC2018sample_features.csv', index=False,header=False )\n",
        "    df_sample[\"label\"].to_csv('/content/drive/MyDrive/IntrusionDetection/CICIDS2018/02-TreatedDataset/CIC2018sample_labels.csv', index=False,header=False )\n",
        "\n",
        "    print(\"Salvar dataset... DONE\")"
      ],
      "metadata": {
        "id": "gqXY--7wWDOf",
        "colab": {
          "base_uri": "https://localhost:8080/"
        },
        "outputId": "c5cd959e-d1ac-41ef-bc29-b9f4dd93a711"
      },
      "id": "gqXY--7wWDOf",
      "execution_count": null,
      "outputs": [
        {
          "output_type": "stream",
          "name": "stdout",
          "text": [
            "Loading dataset...\n",
            "/content/drive/MyDrive/IntrusionDetection/CICIDS2018/02-TreatedDataset/df1_modified.parquet\n",
            "/content/drive/MyDrive/IntrusionDetection/CICIDS2018/02-TreatedDataset/df2_modified.parquet\n",
            "/content/drive/MyDrive/IntrusionDetection/CICIDS2018/02-TreatedDataset/df3_modified.parquet\n",
            "/content/drive/MyDrive/IntrusionDetection/CICIDS2018/02-TreatedDataset/df4_modified.parquet\n",
            "/content/drive/MyDrive/IntrusionDetection/CICIDS2018/02-TreatedDataset/df5_modified.parquet\n",
            "/content/drive/MyDrive/IntrusionDetection/CICIDS2018/02-TreatedDataset/df6_modified.parquet\n",
            "/content/drive/MyDrive/IntrusionDetection/CICIDS2018/02-TreatedDataset/df7_modified.parquet\n",
            "/content/drive/MyDrive/IntrusionDetection/CICIDS2018/02-TreatedDataset/df8_modified.parquet\n",
            "/content/drive/MyDrive/IntrusionDetection/CICIDS2018/02-TreatedDataset/df9_modified.parquet\n",
            "/content/drive/MyDrive/IntrusionDetection/CICIDS2018/02-TreatedDataset/df10_modified.parquet\n",
            "Dados importados com shape: (8860386, 77)\n",
            "Colunas: Index(['flow_duration', 'tot_fwd_pkts', 'tot_bwd_pkts', 'totlen_fwd_pkts',\n",
            "       'totlen_bwd_pkts', 'fwd_pkt_len_max', 'fwd_pkt_len_min',\n",
            "       'fwd_pkt_len_mean', 'fwd_pkt_len_std', 'bwd_pkt_len_max',\n",
            "       'bwd_pkt_len_min', 'bwd_pkt_len_mean', 'bwd_pkt_len_std', 'flow_byts/s',\n",
            "       'flow_pkts/s', 'flow_iat_mean', 'flow_iat_std', 'flow_iat_max',\n",
            "       'flow_iat_min', 'fwd_iat_tot', 'fwd_iat_mean', 'fwd_iat_std',\n",
            "       'fwd_iat_max', 'fwd_iat_min', 'bwd_iat_tot', 'bwd_iat_mean',\n",
            "       'bwd_iat_std', 'bwd_iat_max', 'bwd_iat_min', 'fwd_psh_flags',\n",
            "       'bwd_psh_flags', 'fwd_urg_flags', 'bwd_urg_flags', 'fwd_header_len',\n",
            "       'bwd_header_len', 'fwd_pkts/s', 'bwd_pkts/s', 'pkt_len_min',\n",
            "       'pkt_len_max', 'pkt_len_mean', 'pkt_len_std', 'pkt_len_var',\n",
            "       'fin_flag_cnt', 'syn_flag_cnt', 'rst_flag_cnt', 'psh_flag_cnt',\n",
            "       'ack_flag_cnt', 'urg_flag_cnt', 'cwe_flag_count', 'ece_flag_cnt',\n",
            "       'down/up_ratio', 'pkt_size_avg', 'fwd_seg_size_avg', 'bwd_seg_size_avg',\n",
            "       'fwd_byts/b_avg', 'fwd_pkts/b_avg', 'fwd_blk_rate_avg',\n",
            "       'bwd_byts/b_avg', 'bwd_pkts/b_avg', 'bwd_blk_rate_avg',\n",
            "       'subflow_fwd_pkts', 'subflow_fwd_byts', 'subflow_bwd_pkts',\n",
            "       'subflow_bwd_byts', 'init_fwd_win_byts', 'init_bwd_win_byts',\n",
            "       'fwd_act_data_pkts', 'fwd_seg_size_min', 'active_mean', 'active_std',\n",
            "       'active_max', 'active_min', 'idle_mean', 'idle_std', 'idle_max',\n",
            "       'idle_min', 'label'],\n",
            "      dtype='object')\n",
            "Distribuição do label:\n",
            "label\n",
            "Benign                      6112151\n",
            "DDOS attack-HOIC             686012\n",
            "DDoS attacks-LOIC-HTTP       576191\n",
            "DoS attacks-Hulk             461912\n",
            "Bot                          286191\n",
            "FTP-BruteForce               193360\n",
            "SSH-Bruteforce               187589\n",
            "Infilteration                161934\n",
            "DoS attacks-SlowHTTPTest     139890\n",
            "DoS attacks-GoldenEye         41508\n",
            "DoS attacks-Slowloris         10990\n",
            "DDOS attack-LOIC-UDP           1730\n",
            "Brute Force -Web                611\n",
            "Brute Force -XSS                230\n",
            "SQL Injection                    87\n",
            "Name: count, dtype: int64\n",
            "Dados para AL com shape: (8860386, 77)\n",
            "Salvar dataset\n",
            "Distribuição do label de sample:\n",
            "label\n",
            "Benign                      1222430\n",
            "DDOS attack-HOIC             137202\n",
            "DDoS attacks-LOIC-HTTP       115238\n",
            "DoS attacks-Hulk              92382\n",
            "Bot                           57238\n",
            "FTP-BruteForce                38672\n",
            "SSH-Bruteforce                37518\n",
            "Infilteration                 32387\n",
            "DoS attacks-SlowHTTPTest      27978\n",
            "DoS attacks-GoldenEye          8302\n",
            "DoS attacks-Slowloris          2198\n",
            "DDOS attack-LOIC-UDP            346\n",
            "Brute Force -Web                122\n",
            "Brute Force -XSS                 46\n",
            "SQL Injection                    17\n",
            "Name: count, dtype: int64\n",
            "Salvar dataset... DONE\n"
          ]
        }
      ]
    },
    {
      "cell_type": "code",
      "source": [
        "df_sample.shape"
      ],
      "metadata": {
        "colab": {
          "base_uri": "https://localhost:8080/"
        },
        "id": "MwxopGrpjlkW",
        "outputId": "61a42ff5-5daa-4f8a-c4aa-f3c382b15622"
      },
      "id": "MwxopGrpjlkW",
      "execution_count": null,
      "outputs": [
        {
          "output_type": "execute_result",
          "data": {
            "text/plain": [
              "(1772076, 77)"
            ]
          },
          "metadata": {},
          "execution_count": 6
        }
      ]
    }
  ],
  "metadata": {
    "kernelspec": {
      "display_name": "Rodo",
      "language": "python",
      "name": "rodo"
    },
    "language_info": {
      "codemirror_mode": {
        "name": "ipython",
        "version": 3
      },
      "file_extension": ".py",
      "mimetype": "text/x-python",
      "name": "python",
      "nbconvert_exporter": "python",
      "pygments_lexer": "ipython3",
      "version": "3.8.6"
    },
    "colab": {
      "provenance": []
    }
  },
  "nbformat": 4,
  "nbformat_minor": 5
}