{
  "cells": [
    {
      "cell_type": "code",
      "source": [
        "from google.colab import drive\n",
        "drive.mount('/content/drive')"
      ],
      "metadata": {
        "colab": {
          "base_uri": "https://localhost:8080/"
        },
        "id": "Mh1A7aGemQWx",
        "outputId": "d47acbf0-c11a-41a1-d073-436ff5017085"
      },
      "id": "Mh1A7aGemQWx",
      "execution_count": 1,
      "outputs": [
        {
          "output_type": "stream",
          "name": "stdout",
          "text": [
            "Mounted at /content/drive\n"
          ]
        }
      ]
    },
    {
      "cell_type": "code",
      "execution_count": 2,
      "id": "d1938670",
      "metadata": {
        "tags": [],
        "id": "d1938670"
      },
      "outputs": [],
      "source": [
        "###### Main Module\n",
        "#####\n",
        "###########################\n",
        "###### Packages\n",
        "import datetime\n",
        "import numpy as np\n",
        "import pandas as pd\n",
        "import sys\n",
        "\n",
        "import time\n",
        "\n",
        "###########################"
      ]
    },
    {
      "cell_type": "code",
      "execution_count": 12,
      "id": "73b9d9e3",
      "metadata": {
        "tags": [],
        "colab": {
          "base_uri": "https://localhost:8080/"
        },
        "id": "73b9d9e3",
        "outputId": "59dae39b-7356-478d-bd9c-4955cc897ec6",
        "collapsed": true
      },
      "outputs": [
        {
          "output_type": "stream",
          "name": "stdout",
          "text": [
            "Loading dataset...\n",
            "Dados importados com shape: (1408219, 12)\n",
            "Distribuição do label:\n",
            "specific_class\n",
            "BENIGN            1223737\n",
            "DoS                 74663\n",
            "RPM                 54900\n",
            "SPEED               24951\n",
            "STEERING_WHEEL      19977\n",
            "GAS                  9991\n",
            "Name: count, dtype: int64\n",
            "Dados para AL com shape: (1408219, 9)\n",
            "Salvar dataset\n",
            "Salvar dataset... DONE\n"
          ]
        }
      ],
      "source": [
        "def dados_tratar(df):\n",
        "\n",
        "    df = df.drop(['label', 'category', 'ID'], axis=1)\n",
        "\n",
        "    return df\n",
        "\n",
        "\n",
        "if __name__ == \"__main__\":\n",
        "    # Obtém a hora atual antes da execução do programa\n",
        "    pd.set_option('display.max_columns', None)\n",
        "    hora_inicio = datetime.datetime.now()\n",
        "    print(\"Loading dataset...\")\n",
        "    #Load Data\n",
        "    df1=pd.read_csv(\"/content/drive/MyDrive/IntrusionDetection/CICIoV2024/01-RawDataset/decimal_DoS.csv\", low_memory=False)\n",
        "    df2=pd.read_csv(\"/content/drive/MyDrive/IntrusionDetection/CICIoV2024/01-RawDataset/decimal_benign.csv\", low_memory=False)\n",
        "    df3=pd.read_csv(\"/content/drive/MyDrive/IntrusionDetection/CICIoV2024/01-RawDataset/decimal_spoofing-GAS.csv\", low_memory=False)\n",
        "    df4=pd.read_csv(\"/content/drive/MyDrive/IntrusionDetection/CICIoV2024/01-RawDataset/decimal_spoofing-RPM.csv\", low_memory=False)\n",
        "    df5=pd.read_csv(\"/content/drive/MyDrive/IntrusionDetection/CICIoV2024/01-RawDataset/decimal_spoofing-SPEED.csv\", low_memory=False)\n",
        "    df6=pd.read_csv(\"/content/drive/MyDrive/IntrusionDetection/CICIoV2024/01-RawDataset/decimal_spoofing-STEERING_WHEEL.csv\", low_memory=False)\n",
        "    df = pd.concat([df1,df2,df3,df4,df5,df6])\n",
        "    print(f'Dados importados com shape: {df.shape}')\n",
        "    df  = dados_tratar(df)\n",
        "    print(\"Distribuição do label:\")\n",
        "    print(df['specific_class'].value_counts())\n",
        "    print(f'Dados para AL com shape: {df.shape}')\n",
        "    print(\"Salvar dataset\")\n",
        "    df.drop(\"specific_class\", axis=1).to_csv('/content/drive/MyDrive/IntrusionDetection/CICIoV2024/02-TreatedDataset/CICIoV2024_features.csv', index=False,header=False )\n",
        "    df[\"specific_class\"].to_csv('/content/drive/MyDrive/IntrusionDetection/CICIoV2024/02-TreatedDataset/CICIoV2024_labels.csv', index=False,header=False )\n",
        "    print(\"Salvar dataset... DONE\")"
      ]
    },
    {
      "cell_type": "code",
      "source": [],
      "metadata": {
        "id": "WFBIniYZp9T-"
      },
      "id": "WFBIniYZp9T-",
      "execution_count": null,
      "outputs": []
    }
  ],
  "metadata": {
    "kernelspec": {
      "display_name": "Rodo",
      "language": "python",
      "name": "rodo"
    },
    "language_info": {
      "codemirror_mode": {
        "name": "ipython",
        "version": 3
      },
      "file_extension": ".py",
      "mimetype": "text/x-python",
      "name": "python",
      "nbconvert_exporter": "python",
      "pygments_lexer": "ipython3",
      "version": "3.8.6"
    },
    "colab": {
      "provenance": []
    }
  },
  "nbformat": 4,
  "nbformat_minor": 5
}