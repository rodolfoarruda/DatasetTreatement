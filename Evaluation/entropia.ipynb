{
  "nbformat": 4,
  "nbformat_minor": 0,
  "metadata": {
    "colab": {
      "provenance": []
    },
    "kernelspec": {
      "name": "python3",
      "display_name": "Python 3"
    },
    "language_info": {
      "name": "python"
    }
  },
  "cells": [
    {
      "cell_type": "code",
      "execution_count": 1,
      "metadata": {
        "colab": {
          "base_uri": "https://localhost:8080/"
        },
        "id": "zxRkgBeBOOdg",
        "outputId": "512badfe-f4c0-489e-cda2-7597c2fca9f1"
      },
      "outputs": [
        {
          "output_type": "stream",
          "name": "stdout",
          "text": [
            "Mounted at /content/drive\n"
          ]
        }
      ],
      "source": [
        "from google.colab import drive\n",
        "drive.mount('/content/drive')"
      ]
    },
    {
      "cell_type": "code",
      "source": [
        "import pandas as pd\n",
        "import numpy as np"
      ],
      "metadata": {
        "id": "GCHKL3raPwSt"
      },
      "execution_count": 17,
      "outputs": []
    },
    {
      "cell_type": "code",
      "source": [
        "def calcular_entropia(dataframe, coluna_classe):\n",
        "  \"\"\"\n",
        "  Calcula a entropia de um DataFrame com base na frequência de suas classes.\n",
        "\n",
        "  Args:\n",
        "    dataframe: O DataFrame pandas.\n",
        "    coluna_classe: O nome da coluna que representa a classe.\n",
        "\n",
        "  Returns:\n",
        "    A entropia do DataFrame.\n",
        "  \"\"\"\n",
        "\n",
        "  contagem_classes = dataframe[coluna_classe].value_counts()\n",
        "  probabilidades = contagem_classes / len(dataframe)\n",
        "  entropia = -np.sum(probabilidades * np.log2(probabilidades))\n",
        "  return entropia"
      ],
      "metadata": {
        "id": "BkKKHR-6O9Zt"
      },
      "execution_count": 18,
      "outputs": []
    },
    {
      "cell_type": "code",
      "source": [
        "df_cic2017 = pd.read_csv('/content/drive/MyDrive/IntrusionDetection/01-Datasets/CICIDS2017/02-TreatedDataset/CIC2017_labels.csv',header=None)\n",
        "\n",
        "entropia = calcular_entropia(df_cic2017, 0)\n",
        "print(f\"A entropia do DataFrame é: {entropia}\")"
      ],
      "metadata": {
        "colab": {
          "base_uri": "https://localhost:8080/"
        },
        "id": "uD6xbqPTQFaB",
        "outputId": "134b0eec-e1d0-4942-f579-ff9684a0cfeb"
      },
      "execution_count": 19,
      "outputs": [
        {
          "output_type": "stream",
          "name": "stdout",
          "text": [
            "A entropia do DataFrame é: 1.10836311864307\n"
          ]
        }
      ]
    },
    {
      "cell_type": "code",
      "source": [
        "df_cic2018 = pd.read_csv('/content/drive/MyDrive/IntrusionDetection/01-Datasets/CICIDS2018/02-TreatedDataset/CIC2018sample_labels.csv',header=None)\n",
        "\n",
        "entropia = calcular_entropia(df_cic2018, 0)\n",
        "print(f\"A entropia do DataFrame é: {entropia}\")"
      ],
      "metadata": {
        "colab": {
          "base_uri": "https://localhost:8080/"
        },
        "id": "Od_hoPiRQMH8",
        "outputId": "f2e6e6cb-a285-4839-a82b-64321dae5b44"
      },
      "execution_count": 20,
      "outputs": [
        {
          "output_type": "stream",
          "name": "stdout",
          "text": [
            "A entropia do DataFrame é: 1.7841681826094054\n"
          ]
        }
      ]
    },
    {
      "cell_type": "code",
      "source": [
        "df_cic2019 = pd.read_csv('/content/drive/MyDrive/IntrusionDetection/01-Datasets/CICDDoS2019/02-TreatedDataset/CICDDoS2019_labels.csv',header=None)\n",
        "\n",
        "entropia = calcular_entropia(df_cic2019, 0)\n",
        "print(f\"A entropia do DataFrame é: {entropia}\")"
      ],
      "metadata": {
        "colab": {
          "base_uri": "https://localhost:8080/"
        },
        "id": "GdIb7CKwVWSX",
        "outputId": "49ce694d-fafa-4321-cfbf-1e09ece45d4e"
      },
      "execution_count": 21,
      "outputs": [
        {
          "output_type": "stream",
          "name": "stdout",
          "text": [
            "A entropia do DataFrame é: 2.8290432209085092\n"
          ]
        }
      ]
    },
    {
      "cell_type": "code",
      "source": [
        "df_nb15 = pd.read_csv('/content/drive/MyDrive/IntrusionDetection/01-Datasets/UNSW-NB15/02-TreatedDataset/NB15_labels.csv',header=None)\n",
        "\n",
        "entropia = calcular_entropia(df_nb15, 0)\n",
        "print(f\"A entropia do DataFrame é: {entropia}\")"
      ],
      "metadata": {
        "colab": {
          "base_uri": "https://localhost:8080/"
        },
        "id": "zbSrSninV0aj",
        "outputId": "a967e62d-4617-4019-afeb-145352d06af7"
      },
      "execution_count": 22,
      "outputs": [
        {
          "output_type": "stream",
          "name": "stdout",
          "text": [
            "A entropia do DataFrame é: 0.7538753289397798\n"
          ]
        }
      ]
    },
    {
      "cell_type": "code",
      "source": [
        "df_nb18 = pd.read_csv('/content/drive/MyDrive/IntrusionDetection/01-Datasets/UNSW_2018_IoT_Botnet/02-TreatedDataset/UNSW-2018IoTBotnet_labels.csv',header=None)\n",
        "\n",
        "entropia = calcular_entropia(df_nb18, 0)\n",
        "print(f\"A entropia do DataFrame é: {entropia}\")"
      ],
      "metadata": {
        "colab": {
          "base_uri": "https://localhost:8080/"
        },
        "id": "bAA5x7j3WpFL",
        "outputId": "55b73744-e0f9-4bc0-aa1f-644fa4413b88"
      },
      "execution_count": 23,
      "outputs": [
        {
          "output_type": "stream",
          "name": "stdout",
          "text": [
            "A entropia do DataFrame é: 2.119851389305029\n"
          ]
        }
      ]
    },
    {
      "cell_type": "code",
      "source": [
        "df_cic23 = pd.read_csv('/content/drive/MyDrive/IntrusionDetection/01-Datasets/CIC_IOT_2023/02-TreatedDataset/CICIoT2023-34_labels.csv',header=None)\n",
        "\n",
        "entropia = calcular_entropia(df_cic23, 0)\n",
        "print(f\"A entropia do DataFrame é: {entropia}\")"
      ],
      "metadata": {
        "colab": {
          "base_uri": "https://localhost:8080/"
        },
        "id": "2_mb284eWvZa",
        "outputId": "63c73d4e-9c65-4366-e174-607e1a183049"
      },
      "execution_count": 24,
      "outputs": [
        {
          "output_type": "stream",
          "name": "stdout",
          "text": [
            "A entropia do DataFrame é: 3.7983198090397075\n"
          ]
        }
      ]
    },
    {
      "cell_type": "code",
      "source": [
        "df_cic2019.value_counts()"
      ],
      "metadata": {
        "colab": {
          "base_uri": "https://localhost:8080/",
          "height": 523
        },
        "id": "KpGJr0PSXt7y",
        "outputId": "46077f47-3bf1-4d11-c5a0-7aeb3fbfb71d"
      },
      "execution_count": 27,
      "outputs": [
        {
          "output_type": "execute_result",
          "data": {
            "text/plain": [
              "TFTP             1004133\n",
              "DrDoS_SNMP        257990\n",
              "DrDoS_DNS         253566\n",
              "DrDoS_MSSQL       226144\n",
              "DrDoS_NetBIOS     204666\n",
              "DrDoS_UDP         156729\n",
              "DrDoS_SSDP        130531\n",
              "DrDoS_LDAP        108996\n",
              "Syn                79114\n",
              "DrDoS_NTP          60124\n",
              "UDP-lag            18341\n",
              "BENIGN              2796\n",
              "WebDDoS               25\n",
              "Name: count, dtype: int64"
            ],
            "text/html": [
              "<div>\n",
              "<style scoped>\n",
              "    .dataframe tbody tr th:only-of-type {\n",
              "        vertical-align: middle;\n",
              "    }\n",
              "\n",
              "    .dataframe tbody tr th {\n",
              "        vertical-align: top;\n",
              "    }\n",
              "\n",
              "    .dataframe thead th {\n",
              "        text-align: right;\n",
              "    }\n",
              "</style>\n",
              "<table border=\"1\" class=\"dataframe\">\n",
              "  <thead>\n",
              "    <tr style=\"text-align: right;\">\n",
              "      <th></th>\n",
              "      <th>count</th>\n",
              "    </tr>\n",
              "    <tr>\n",
              "      <th>0</th>\n",
              "      <th></th>\n",
              "    </tr>\n",
              "  </thead>\n",
              "  <tbody>\n",
              "    <tr>\n",
              "      <th>TFTP</th>\n",
              "      <td>1004133</td>\n",
              "    </tr>\n",
              "    <tr>\n",
              "      <th>DrDoS_SNMP</th>\n",
              "      <td>257990</td>\n",
              "    </tr>\n",
              "    <tr>\n",
              "      <th>DrDoS_DNS</th>\n",
              "      <td>253566</td>\n",
              "    </tr>\n",
              "    <tr>\n",
              "      <th>DrDoS_MSSQL</th>\n",
              "      <td>226144</td>\n",
              "    </tr>\n",
              "    <tr>\n",
              "      <th>DrDoS_NetBIOS</th>\n",
              "      <td>204666</td>\n",
              "    </tr>\n",
              "    <tr>\n",
              "      <th>DrDoS_UDP</th>\n",
              "      <td>156729</td>\n",
              "    </tr>\n",
              "    <tr>\n",
              "      <th>DrDoS_SSDP</th>\n",
              "      <td>130531</td>\n",
              "    </tr>\n",
              "    <tr>\n",
              "      <th>DrDoS_LDAP</th>\n",
              "      <td>108996</td>\n",
              "    </tr>\n",
              "    <tr>\n",
              "      <th>Syn</th>\n",
              "      <td>79114</td>\n",
              "    </tr>\n",
              "    <tr>\n",
              "      <th>DrDoS_NTP</th>\n",
              "      <td>60124</td>\n",
              "    </tr>\n",
              "    <tr>\n",
              "      <th>UDP-lag</th>\n",
              "      <td>18341</td>\n",
              "    </tr>\n",
              "    <tr>\n",
              "      <th>BENIGN</th>\n",
              "      <td>2796</td>\n",
              "    </tr>\n",
              "    <tr>\n",
              "      <th>WebDDoS</th>\n",
              "      <td>25</td>\n",
              "    </tr>\n",
              "  </tbody>\n",
              "</table>\n",
              "</div><br><label><b>dtype:</b> int64</label>"
            ]
          },
          "metadata": {},
          "execution_count": 27
        }
      ]
    },
    {
      "cell_type": "code",
      "source": [],
      "metadata": {
        "id": "sBfnplJhZLim"
      },
      "execution_count": null,
      "outputs": []
    }
  ]
}