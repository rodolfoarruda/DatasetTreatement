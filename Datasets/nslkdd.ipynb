{
  "cells": [
    {
      "cell_type": "code",
      "execution_count": 1,
      "id": "d1938670",
      "metadata": {
        "tags": [],
        "id": "d1938670"
      },
      "outputs": [],
      "source": [
        "import pandas as pd"
      ]
    },
    {
      "cell_type": "code",
      "source": [
        "from google.colab import drive\n",
        "drive.mount('/content/drive')"
      ],
      "metadata": {
        "colab": {
          "base_uri": "https://localhost:8080/"
        },
        "id": "UvQ3JLCjHOTZ",
        "outputId": "51377c18-8522-4a58-c9a3-c01943555062"
      },
      "id": "UvQ3JLCjHOTZ",
      "execution_count": 3,
      "outputs": [
        {
          "output_type": "stream",
          "name": "stdout",
          "text": [
            "Mounted at /content/drive\n"
          ]
        }
      ]
    },
    {
      "cell_type": "code",
      "source": [
        "print(pd.read_csv(\"/content/drive/MyDrive/IntrusionDetection/NSL-KDD/01-RawDataset/KDDTrain+.txt\",header=None).shape)\n",
        "print(pd.read_csv(\"/content/drive/MyDrive/IntrusionDetection/NSL-KDD/01-RawDataset/KDDTest+.txt\",header=None).shape)"
      ],
      "metadata": {
        "colab": {
          "base_uri": "https://localhost:8080/"
        },
        "id": "xENsuxREG7Nf",
        "outputId": "5a6647b4-bf65-452a-c532-591768fb3559"
      },
      "id": "xENsuxREG7Nf",
      "execution_count": 4,
      "outputs": [
        {
          "output_type": "stream",
          "name": "stdout",
          "text": [
            "(125973, 43)\n",
            "(22544, 43)\n"
          ]
        }
      ]
    },
    {
      "cell_type": "code",
      "execution_count": null,
      "id": "73b9d9e3",
      "metadata": {
        "tags": [],
        "id": "73b9d9e3",
        "outputId": "7742f6ee-68ee-4aa0-f372-cb575e3487dc"
      },
      "outputs": [
        {
          "name": "stdout",
          "output_type": "stream",
          "text": [
            "Loading dataset...\n",
            "Dados importados com shape: (148517, 43)\n",
            "Distribuição do label:\n",
            "attack_cat\n",
            "Normal       77207\n",
            "DoS          53387\n",
            "Probe        14077\n",
            "Access        3738\n",
            "Privilege      108\n",
            "Name: count, dtype: int64\n",
            "Dados para AL com shape: (148517, 59)\n",
            "Salvar dataset\n",
            "Salvar dataset... DONE\n"
          ]
        }
      ],
      "source": [
        "def dados_tratar(df):\n",
        "\n",
        "    #Renomear\n",
        "    df.columns = (['duration'\n",
        "    ,'protocol_type'\n",
        "    ,'service'\n",
        "    ,'flag'\n",
        "    ,'src_bytes'\n",
        "    ,'dst_bytes'\n",
        "    ,'land'\n",
        "    ,'wrong_fragment'\n",
        "    ,'urgent'\n",
        "    ,'hot'\n",
        "    ,'num_failed_logins'\n",
        "    ,'logged_in'\n",
        "    ,'num_compromised'\n",
        "    ,'root_shell'\n",
        "    ,'su_attempted'\n",
        "    ,'num_root'\n",
        "    ,'num_file_creations'\n",
        "    ,'num_shells'\n",
        "    ,'num_access_files'\n",
        "    ,'num_outbound_cmds'\n",
        "    ,'is_host_login'\n",
        "    ,'is_guest_login'\n",
        "    ,'count'\n",
        "    ,'srv_count'\n",
        "    ,'serror_rate'\n",
        "    ,'srv_serror_rate'\n",
        "    ,'rerror_rate'\n",
        "    ,'srv_rerror_rate'\n",
        "    ,'same_srv_rate'\n",
        "    ,'diff_srv_rate'\n",
        "    ,'srv_diff_host_rate'\n",
        "    ,'dst_host_count'\n",
        "    ,'dst_host_srv_count'\n",
        "    ,'dst_host_same_srv_rate'\n",
        "    ,'dst_host_diff_srv_rate'\n",
        "    ,'dst_host_same_src_port_rate'\n",
        "    ,'dst_host_srv_diff_host_rate'\n",
        "    ,'dst_host_serror_rate'\n",
        "    ,'dst_host_srv_serror_rate'\n",
        "    ,'dst_host_rerror_rate'\n",
        "    ,'dst_host_srv_rerror_rate'\n",
        "    ,'attack'\n",
        "    ,'level'])\n",
        "\n",
        "\n",
        "    # Classificar os ataques diretamente e criar uma nova coluna\n",
        "    dos_attacks = ['apache2','back','land','neptune','mailbomb','pod','processtable','smurf','teardrop','udpstorm','worm']\n",
        "    probe_attacks = ['ipsweep','mscan','nmap','portsweep','saint','satan']\n",
        "    privilege_attacks = ['buffer_overflow','loadmdoule','perl','ps','rootkit','sqlattack','xterm']\n",
        "    access_attacks = ['ftp_write','guess_passwd','http_tunnel','imap','multihop','named','phf','sendmail','snmpgetattack','snmpguess','spy','warezclient','warezmaster','xclock','xsnoop']\n",
        "\n",
        "    df['attack_cat'] = 'Normal'  # Inicialmente, todos os ataques são classificados como \"Normal\"\n",
        "    df.loc[df['attack'].isin(dos_attacks), 'attack_cat'] = 'DoS'\n",
        "    df.loc[df['attack'].isin(probe_attacks), 'attack_cat'] = 'Probe'\n",
        "    df.loc[df['attack'].isin(privilege_attacks), 'attack_cat'] = 'Privilege'\n",
        "    df.loc[df['attack'].isin(access_attacks), 'attack_cat'] = 'Access'\n",
        "\n",
        "    # Dropar colunas não úteis\n",
        "    df = df.drop(columns=['level','attack'])\n",
        "\n",
        "    # Identificando as top 5 categorias para 'service'\n",
        "    top_service = df['service'].value_counts().head(5).index.tolist()\n",
        "    # Substituindo categorias não presentes nas top 5 por 'outros' para 'service'\n",
        "    df.loc[~df['service'].isin(top_service), 'service'] = 'outros'\n",
        "\n",
        "    # Aplicando one-hot encoding\n",
        "    df_encoded = pd.get_dummies(df, columns=['protocol_type', 'flag', 'service'], dtype=int)\n",
        "    df_final = df_encoded.fillna(0)\n",
        "\n",
        "    return df_final\n",
        "\n",
        "\n",
        "if __name__ == \"__main__\":\n",
        "    # Obtém a hora atual antes da execução do programa\n",
        "    pd.set_option('display.max_columns', None)\n",
        "    hora_inicio = datetime.datetime.now()\n",
        "    print(\"Loading dataset...\")\n",
        "    #Load Data\n",
        "    df1=pd.read_csv(\"../Daniel/raw_data/KDDTrain+.txt\",header=None)\n",
        "    df2=pd.read_csv(\"../Daniel/raw_data/KDDTest+.txt\",header=None)\n",
        "\n",
        "    df = pd.concat([df1,df2])\n",
        "    print(f'Dados importados com shape: {df.shape}')\n",
        "    df  = dados_tratar(df)\n",
        "    print(\"Distribuição do label:\")\n",
        "    print(df['attack_cat'].value_counts())\n",
        "    print(f'Dados para AL com shape: {df.shape}')\n",
        "    print(\"Salvar dataset\")\n",
        "    df.drop(\"attack_cat\", axis=1).to_csv('../Daniel/datasets/nslkdd_features.csv', index=False,header=False )\n",
        "    df[\"attack_cat\"].to_csv('../Daniel/datasets/nslkdd_labels.csv', index=False,header=False )\n",
        "    print(\"Salvar dataset... DONE\")"
      ]
    }
  ],
  "metadata": {
    "kernelspec": {
      "display_name": "Rodo",
      "language": "python",
      "name": "rodo"
    },
    "language_info": {
      "codemirror_mode": {
        "name": "ipython",
        "version": 3
      },
      "file_extension": ".py",
      "mimetype": "text/x-python",
      "name": "python",
      "nbconvert_exporter": "python",
      "pygments_lexer": "ipython3",
      "version": "3.8.6"
    },
    "colab": {
      "provenance": []
    }
  },
  "nbformat": 4,
  "nbformat_minor": 5
}
