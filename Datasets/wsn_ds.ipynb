{
  "cells": [
    {
      "cell_type": "code",
      "source": [
        "from google.colab import drive\n",
        "drive.mount('/content/drive')"
      ],
      "metadata": {
        "colab": {
          "base_uri": "https://localhost:8080/"
        },
        "id": "7pDwJaQbdL4F",
        "outputId": "a008de77-8673-47d9-e522-259b2e66cd6c"
      },
      "id": "7pDwJaQbdL4F",
      "execution_count": null,
      "outputs": [
        {
          "output_type": "stream",
          "name": "stdout",
          "text": [
            "Mounted at /content/drive\n"
          ]
        }
      ]
    },
    {
      "cell_type": "code",
      "execution_count": null,
      "id": "d1938670",
      "metadata": {
        "tags": [],
        "id": "d1938670"
      },
      "outputs": [],
      "source": [
        "import pandas as pd"
      ]
    },
    {
      "cell_type": "code",
      "execution_count": null,
      "id": "73b9d9e3",
      "metadata": {
        "tags": [],
        "colab": {
          "base_uri": "https://localhost:8080/"
        },
        "id": "73b9d9e3",
        "outputId": "546774e5-312f-41dc-9d3c-13f48ad66d25"
      },
      "outputs": [
        {
          "output_type": "stream",
          "name": "stdout",
          "text": [
            "Loading dataset...\n",
            "Dados importados com shape: (374661, 19)\n",
            "Distribuição do label:\n",
            "attack_type\n",
            "Normal       340066\n",
            "Grayhole      14596\n",
            "Blackhole     10049\n",
            "TDMA           6638\n",
            "Flooding       3312\n",
            "Name: count, dtype: int64\n",
            "Dados para AL com shape: (374661, 15)\n",
            "Salvar dataset\n",
            "Salvar dataset... DONE\n"
          ]
        }
      ],
      "source": [
        "def dados_tratar(df):\n",
        "\n",
        "    df.columns = df.columns.str.strip().str.lower().str.replace(' ', '_').str.replace('[()]', '', regex=True)\n",
        "\n",
        "    #dropar metadados\n",
        "    df = df.drop(columns=['id','time','is_ch','who_ch'])\n",
        "\n",
        "    return df\n",
        "\n",
        "\n",
        "if __name__ == \"__main__\":\n",
        "\n",
        "    pd.set_option('display.max_columns', None)\n",
        "    print(\"Loading dataset...\")\n",
        "    #Load Data\n",
        "    df = pd.read_csv(\"/content/drive/MyDrive/IntrusionDetection/WSN-DS/01-RawDataset/WSN-DS.csv\")\n",
        "    print(f'Dados importados com shape: {df.shape}')\n",
        "    df  = dados_tratar(df)\n",
        "    print(\"Distribuição do label:\")\n",
        "    print(df['attack_type'].value_counts())\n",
        "    print(f'Dados para AL com shape: {df.shape}')\n",
        "    print(\"Salvar dataset\")\n",
        "    df.drop(\"attack_type\", axis=1).to_csv('/content/drive/MyDrive/IntrusionDetection/WSN-DS/02-TreatedDataset/wsnds_features.csv', index=False,header=False )\n",
        "    df[\"attack_type\"].to_csv('/content/drive/MyDrive/IntrusionDetection/WSN-DS/02-TreatedDataset/wsnds_labels.csv', index=False,header=False )\n",
        "    print(\"Salvar dataset... DONE\")"
      ]
    }
  ],
  "metadata": {
    "kernelspec": {
      "display_name": "Rodo",
      "language": "python",
      "name": "rodo"
    },
    "language_info": {
      "codemirror_mode": {
        "name": "ipython",
        "version": 3
      },
      "file_extension": ".py",
      "mimetype": "text/x-python",
      "name": "python",
      "nbconvert_exporter": "python",
      "pygments_lexer": "ipython3",
      "version": "3.8.6"
    },
    "colab": {
      "provenance": []
    }
  },
  "nbformat": 4,
  "nbformat_minor": 5
}
