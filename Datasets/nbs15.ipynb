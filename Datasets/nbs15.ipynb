{
  "cells": [
    {
      "cell_type": "code",
      "source": [
        "from google.colab import drive\n",
        "drive.mount('/content/drive')"
      ],
      "metadata": {
        "colab": {
          "base_uri": "https://localhost:8080/"
        },
        "id": "KArDVfNdqs-N",
        "outputId": "24cd089b-3382-440a-d13d-c83f407f3556"
      },
      "id": "KArDVfNdqs-N",
      "execution_count": null,
      "outputs": [
        {
          "output_type": "stream",
          "name": "stdout",
          "text": [
            "Mounted at /content/drive\n"
          ]
        }
      ]
    },
    {
      "cell_type": "code",
      "execution_count": null,
      "id": "d1938670",
      "metadata": {
        "tags": [],
        "id": "d1938670"
      },
      "outputs": [],
      "source": [
        "import pandas as pd"
      ]
    },
    {
      "cell_type": "code",
      "execution_count": null,
      "id": "73b9d9e3",
      "metadata": {
        "tags": [],
        "colab": {
          "base_uri": "https://localhost:8080/"
        },
        "id": "73b9d9e3",
        "outputId": "17fe187b-5ab6-44cb-ffb9-ed5b95141926"
      },
      "outputs": [
        {
          "output_type": "stream",
          "name": "stdout",
          "text": [
            "Loading dataset...\n",
            "Dados importados com shape: (2540047, 49)\n",
            "Distribuição do label:\n",
            "attack_cat\n",
            "Normal            2218764\n",
            "Generic            215481\n",
            "Exploits            44525\n",
            "Fuzzers             24246\n",
            "DoS                 16353\n",
            "Reconnaissance      13987\n",
            "Analysis             2677\n",
            "Backdoor             2329\n",
            "Shellcode            1511\n",
            "Worms                 174\n",
            "Name: count, dtype: int64\n",
            "Dados para AL com shape: (2540047, 57)\n",
            "Salvar dataset\n",
            "Salvar dataset... DONE\n"
          ]
        }
      ],
      "source": [
        "def dados_tratar(df):\n",
        "\n",
        "    #Renomear\n",
        "    df.columns = nomes = [\n",
        "    'srcip', 'sport', 'dstip', 'dsport', 'proto', 'state', 'dur', 'sbytes',\n",
        "    'dbytes', 'sttl', 'dttl', 'sloss', 'dloss', 'service', 'Sload', 'Dload',\n",
        "    'Spkts', 'Dpkts', 'swin', 'dwin', 'stcpb', 'dtcpb', 'smeansz', 'dmeansz',\n",
        "    'trans_depth', 'res_bdy_len', 'Sjit', 'Djit', 'Stime', 'Ltime', 'Sintpkt',\n",
        "    'Dintpkt', 'tcprtt', 'synack', 'ackdat', 'is_sm_ips_ports', 'ct_state_ttl',\n",
        "    'ct_flw_http_mthd', 'is_ftp_login', 'ct_ftp_cmd', 'ct_srv_src', 'ct_srv_dst',\n",
        "    'ct_dst_ltm', 'ct_src_ltm', 'ct_src_dport_ltm', 'ct_dst_sport_ltm', 'ct_dst_src_ltm',\n",
        "    'attack_cat', 'Label']\n",
        "\n",
        "    # Dropar colunas não úteis\n",
        "    df = df.drop(columns=['Stime', 'Ltime', 'srcip', 'dstip', 'sport', 'dsport', 'Label'])\n",
        "\n",
        "    # Tipagem incorreta ao ler\n",
        "    df['ct_ftp_cmd'] = pd.to_numeric(df['ct_ftp_cmd'], errors='coerce').fillna(0).astype(int)\n",
        "\n",
        "    # Label Normal aparece como NaN\n",
        "    df['attack_cat'] = df['attack_cat'].fillna('Normal').str.strip()\n",
        "\n",
        "    # df['attack_cat'] possui 2 categorias (Backdoors e Backdoor) que deveriam se tornar apenas uma (Backdoor).\n",
        "    df['attack_cat'].replace('Backdoors', 'Backdoor', inplace=True)\n",
        "\n",
        "    # Identificando as top 5 categorias para 'proto'\n",
        "    top_proto = df['proto'].value_counts().head(5).index.tolist()\n",
        "\n",
        "    # Substituindo categorias não presentes nas top 5 por 'outros' para 'proto'\n",
        "    df.loc[~df['proto'].isin(top_proto), 'proto'] = 'outros'\n",
        "\n",
        "    # Identificando as top 5 categorias para 'state'\n",
        "    top_state = df['state'].value_counts().head(5).index.tolist()\n",
        "\n",
        "    # Substituindo categorias não presentes nas top 5 por 'outros' para 'state'\n",
        "    df.loc[~df['state'].isin(top_state), 'state'] = 'outros'\n",
        "\n",
        "    # Identificando as top 5 categorias para 'service'\n",
        "    top_service = df['service'].value_counts().head(5).index.tolist()\n",
        "\n",
        "    # Substituindo categorias não presentes nas top 5 por 'outros' para 'service'\n",
        "    df.loc[~df['service'].isin(top_service), 'service'] = 'outros'\n",
        "\n",
        "    # Aplicando one-hot encoding\n",
        "    df_encoded = pd.get_dummies(df, columns=['proto', 'state', 'service'], dtype=int)\n",
        "\n",
        "    # Colunas com missing ['ct_flw_http_mthd', 'is_ftp_login']\n",
        "    df_final = df_encoded.fillna(0)\n",
        "\n",
        "    return df_final\n",
        "\n",
        "\n",
        "if __name__ == \"__main__\":\n",
        "    pd.set_option('display.max_columns', None)\n",
        "    print(\"Loading dataset...\")\n",
        "    #Load Data\n",
        "    df1=pd.read_csv(\"/content/drive/MyDrive/UNSW/UNSW-NB15_1.csv\", low_memory=False,header=None)\n",
        "    df2=pd.read_csv(\"/content/drive/MyDrive/UNSW/UNSW-NB15_2.csv\", low_memory=False,header=None)\n",
        "    df3=pd.read_csv(\"/content/drive/MyDrive/UNSW/UNSW-NB15_3.csv\", low_memory=False,header=None)\n",
        "    df4=pd.read_csv(\"/content/drive/MyDrive/UNSW/UNSW-NB15_4.csv\", low_memory=False,header=None)\n",
        "\n",
        "    df = pd.concat([df1,df2,df3,df4])\n",
        "    print(f'Dados importados com shape: {df.shape}')\n",
        "    df  = dados_tratar(df)\n",
        "    print(\"Distribuição do label:\")\n",
        "    print(df['attack_cat'].value_counts())\n",
        "    print(f'Dados para AL com shape: {df.shape}')\n",
        "    print(\"Salvar dataset\")\n",
        "    df.drop(\"attack_cat\", axis=1).to_csv('/content/drive/MyDrive/UNSW/NB15_features.csv', index=False,header=False )\n",
        "    df[\"attack_cat\"].to_csv('/content/drive/MyDrive/UNSW/NB15_labels.csv', index=False,header=False )\n",
        "    print(\"Salvar dataset... DONE\")"
      ]
    },
    {
      "cell_type": "code",
      "execution_count": null,
      "id": "4299f89e-1de6-4908-9c93-1dc5e90538d6",
      "metadata": {
        "id": "4299f89e-1de6-4908-9c93-1dc5e90538d6"
      },
      "outputs": [],
      "source": []
    }
  ],
  "metadata": {
    "kernelspec": {
      "display_name": "Rodo",
      "language": "python",
      "name": "rodo"
    },
    "language_info": {
      "codemirror_mode": {
        "name": "ipython",
        "version": 3
      },
      "file_extension": ".py",
      "mimetype": "text/x-python",
      "name": "python",
      "nbconvert_exporter": "python",
      "pygments_lexer": "ipython3",
      "version": "3.8.6"
    },
    "colab": {
      "provenance": []
    }
  },
  "nbformat": 4,
  "nbformat_minor": 5
}
