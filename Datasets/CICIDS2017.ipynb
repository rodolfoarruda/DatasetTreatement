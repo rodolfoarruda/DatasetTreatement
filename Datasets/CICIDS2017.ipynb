{
  "cells": [
    {
      "cell_type": "code",
      "source": [
        "from google.colab import drive\n",
        "drive.mount('/content/drive')"
      ],
      "metadata": {
        "colab": {
          "base_uri": "https://localhost:8080/"
        },
        "id": "Mh1A7aGemQWx",
        "outputId": "3eae3777-67ff-4b83-f1ff-55bf2fad90cd"
      },
      "id": "Mh1A7aGemQWx",
      "execution_count": null,
      "outputs": [
        {
          "output_type": "stream",
          "name": "stdout",
          "text": [
            "Drive already mounted at /content/drive; to attempt to forcibly remount, call drive.mount(\"/content/drive\", force_remount=True).\n"
          ]
        }
      ]
    },
    {
      "cell_type": "code",
      "execution_count": null,
      "id": "d1938670",
      "metadata": {
        "tags": [],
        "id": "d1938670"
      },
      "outputs": [],
      "source": [
        "import pandas as pd"
      ]
    },
    {
      "cell_type": "code",
      "execution_count": null,
      "id": "73b9d9e3",
      "metadata": {
        "tags": [],
        "colab": {
          "base_uri": "https://localhost:8080/"
        },
        "id": "73b9d9e3",
        "outputId": "6740612d-72c6-4c54-aa62-4e0b21a90cfc"
      },
      "outputs": [
        {
          "output_type": "stream",
          "name": "stdout",
          "text": [
            "Loading dataset...\n",
            "Dados importados com shape: (2830743, 79)\n",
            "Distribuição do label:\n",
            "label\n",
            "BENIGN                        2273097\n",
            "DoS Hulk                       231073\n",
            "PortScan                       158930\n",
            "DDoS                           128027\n",
            "DoS GoldenEye                   10293\n",
            "FTP-Patator                      7938\n",
            "SSH-Patator                      5897\n",
            "DoS slowloris                    5796\n",
            "DoS Slowhttptest                 5499\n",
            "Bot                              1966\n",
            "Web Attack - Brute Force         1507\n",
            "Web Attack - XSS                  652\n",
            "Infiltration                       36\n",
            "Web Attack - Sql Injection         21\n",
            "Heartbleed                         11\n",
            "Name: count, dtype: int64\n",
            "Dados para AL com shape: (2830743, 78)\n",
            "Salvar dataset\n",
            "Salvar dataset... DONE\n"
          ]
        }
      ],
      "source": [
        "def dados_tratar(df):\n",
        "\n",
        "    df.columns = df.columns.str.strip().str.lower().str.replace(' ', '_').str.replace('[()]', '', regex=True)\n",
        "\n",
        "    df['flow_bytes/s'] = df['flow_bytes/s'].replace([np.nan,\",,\"],0)\n",
        "    df['flow_packets/s'] = df['flow_packets/s'].replace([np.nan,\",,\"],0)\n",
        "    df['flow_bytes/s'] = df['flow_bytes/s'].replace([np.inf,\",,\"],0)\n",
        "    df['flow_packets/s'] = df['flow_packets/s'].replace([np.inf,\",,\"],0)\n",
        "\n",
        "    df.loc[df['flow_bytes/s'] == \"Infinity\", 'flow_bytes/s'] = 0\n",
        "    df.loc[df['flow_packets/s'] == \"Infinity\", 'flow_packets/s'] = 0\n",
        "\n",
        "    df['flow_bytes/s'] = df['flow_bytes/s'].apply(pd.to_numeric)\n",
        "    df['flow_packets/s'] = df['flow_packets/s'].apply(pd.to_numeric)\n",
        "\n",
        "    df = df[df.columns.drop('destination_port')]\n",
        "\n",
        "    # Substituir o caractere � por \"-\" na coluna do DataFrame usando .loc\n",
        "    df.loc[:, 'label'] = df.loc[:, 'label'].str.replace('�', '-')\n",
        "\n",
        "    for i, col in enumerate(df.columns[:-1]):\n",
        "        df = df.rename(columns={col: f'x{i+1}'})\n",
        "\n",
        "    return df\n",
        "\n",
        "if __name__ == \"__main__\":\n",
        "    pd.set_option('display.max_columns', None)\n",
        "    print(\"Loading dataset...\")\n",
        "    #Load Data\n",
        "    df1=pd.read_csv(\"/content/drive/MyDrive/IntrusionDetection/CICIDS2017/01-RawDataset/Friday-WorkingHours-Afternoon-DDos.pcap_ISCX.csv\", low_memory=False)\n",
        "    df2=pd.read_csv(\"/content/drive/MyDrive/IntrusionDetection/CICIDS2017/01-RawDataset/Friday-WorkingHours-Afternoon-PortScan.pcap_ISCX.csv\", low_memory=False)\n",
        "    df3=pd.read_csv(\"/content/drive/MyDrive/IntrusionDetection/CICIDS2017/01-RawDataset/Friday-WorkingHours-Morning.pcap_ISCX.csv\", low_memory=False)\n",
        "    df4=pd.read_csv(\"/content/drive/MyDrive/IntrusionDetection/CICIDS2017/01-RawDataset/Monday-WorkingHours.pcap_ISCX.csv\", low_memory=False)\n",
        "    df5=pd.read_csv(\"/content/drive/MyDrive/IntrusionDetection/CICIDS2017/01-RawDataset/Thursday-WorkingHours-Afternoon-Infilteration.pcap_ISCX.csv\", low_memory=False)\n",
        "    df6=pd.read_csv(\"/content/drive/MyDrive/IntrusionDetection/CICIDS2017/01-RawDataset/Thursday-WorkingHours-Morning-WebAttacks.pcap_ISCX.csv\", low_memory=False)\n",
        "    df7=pd.read_csv(\"/content/drive/MyDrive/IntrusionDetection/CICIDS2017/01-RawDataset/Tuesday-WorkingHours.pcap_ISCX.csv\", low_memory=False)\n",
        "    df8=pd.read_csv(\"/content/drive/MyDrive/IntrusionDetection/CICIDS2017/01-RawDataset/Wednesday-workingHours.pcap_ISCX.csv\", low_memory=False)\n",
        "    df = pd.concat([df1,df2,df3,df4,df5,df6,df7,df8])\n",
        "    print(f'Dados importados com shape: {df.shape}')\n",
        "    df  = dados_tratar(df)\n",
        "    print(\"Distribuição do label:\")\n",
        "    print(df['label'].value_counts())\n",
        "    print(f'Dados para AL com shape: {df.shape}')\n",
        "    print(\"Salvar dataset\")\n",
        "    df.drop(\"label\", axis=1).to_csv('/content/drive/MyDrive/IntrusionDetection/CICIDS2017/02-TreatedDataset/CIC2017_features.csv', index=False,header=False )\n",
        "    df[\"label\"].to_csv('/content/drive/MyDrive/IntrusionDetection/CICIDS2017/02-TreatedDataset/CIC2017_labels.csv', index=False,header=False )\n",
        "    print(\"Salvar dataset... DONE\")"
      ]
    }
  ],
  "metadata": {
    "kernelspec": {
      "display_name": "Rodo",
      "language": "python",
      "name": "rodo"
    },
    "language_info": {
      "codemirror_mode": {
        "name": "ipython",
        "version": 3
      },
      "file_extension": ".py",
      "mimetype": "text/x-python",
      "name": "python",
      "nbconvert_exporter": "python",
      "pygments_lexer": "ipython3",
      "version": "3.8.6"
    },
    "colab": {
      "provenance": []
    }
  },
  "nbformat": 4,
  "nbformat_minor": 5
}
